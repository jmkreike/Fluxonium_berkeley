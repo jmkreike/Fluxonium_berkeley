{
 "cells": [
  {
   "cell_type": "markdown",
   "metadata": {},
   "source": [
    "# Optimizing specific fluxonium property\n",
    "## Relaxation time at sweet spot"
   ]
  },
  {
   "cell_type": "code",
   "execution_count": 1,
   "metadata": {},
   "outputs": [
    {
     "ename": "ModuleNotFoundError",
     "evalue": "No module named 'plotting_settings'",
     "output_type": "error",
     "traceback": [
      "\u001b[0;31m---------------------------------------------------------------------------\u001b[0m",
      "\u001b[0;31mModuleNotFoundError\u001b[0m                       Traceback (most recent call last)",
      "\u001b[0;32m<ipython-input-1-b78b8982ae36>\u001b[0m in \u001b[0;36m<module>\u001b[0;34m\u001b[0m\n\u001b[1;32m      5\u001b[0m \u001b[0msys\u001b[0m\u001b[0;34m.\u001b[0m\u001b[0mpath\u001b[0m\u001b[0;34m.\u001b[0m\u001b[0mappend\u001b[0m\u001b[0;34m(\u001b[0m\u001b[0;34m'/Users/longnguyen/Documents/GitHub/Fluxonium_berkeley/'\u001b[0m\u001b[0;34m)\u001b[0m\u001b[0;34m\u001b[0m\u001b[0;34m\u001b[0m\u001b[0m\n\u001b[1;32m      6\u001b[0m \u001b[0;32mfrom\u001b[0m \u001b[0mFluxonium_hamiltonians\u001b[0m \u001b[0;32mimport\u001b[0m \u001b[0mSingle_small_junction\u001b[0m \u001b[0;32mas\u001b[0m \u001b[0mfluxonium\u001b[0m\u001b[0;34m\u001b[0m\u001b[0;34m\u001b[0m\u001b[0m\n\u001b[0;32m----> 7\u001b[0;31m \u001b[0;32mimport\u001b[0m \u001b[0mplotting_settings\u001b[0m\u001b[0;34m\u001b[0m\u001b[0;34m\u001b[0m\u001b[0m\n\u001b[0m\u001b[1;32m      8\u001b[0m \u001b[0;32mfrom\u001b[0m \u001b[0mscipy\u001b[0m\u001b[0;34m.\u001b[0m\u001b[0moptimize\u001b[0m \u001b[0;32mimport\u001b[0m \u001b[0mminimize\u001b[0m\u001b[0;34m\u001b[0m\u001b[0;34m\u001b[0m\u001b[0m\n",
      "\u001b[0;31mModuleNotFoundError\u001b[0m: No module named 'plotting_settings'"
     ]
    }
   ],
   "source": [
    "import numpy as np\n",
    "from matplotlib import pyplot as plt\n",
    "from qutip import*\n",
    "import sys\n",
    "sys.path.append('/Users/longnguyen/Documents/GitHub/Fluxonium_berkeley/')\n",
    "from Fluxonium_hamiltonians import Single_small_junction as fluxonium\n",
    "import plotting_settings\n",
    "from scipy.optimize import minimize"
   ]
  },
  {
   "cell_type": "code",
   "execution_count": null,
   "metadata": {},
   "outputs": [],
   "source": [
    "N = 30 #number of levels\n",
    "E_C = 1 #Charging energy, GHz\n",
    "level_num = 10\n",
    "phi = 0.5\n",
    "\n",
    "h = 6.626e-34 #Planck constant\n",
    "kB = 1.38e-23 #Boltzmann constant\n",
    "T_diel = 20e-3 #effective temperature in K\n",
    "T_qp = 20e-3 #effective temperature in K\n",
    "Q_cap = 0.5e6\n",
    "Q_qp = 1e8"
   ]
  },
  {
   "cell_type": "code",
   "execution_count": null,
   "metadata": {},
   "outputs": [],
   "source": [
    "def gamma1(x):\n",
    "    E_L = x[0]\n",
    "    E_J = x[1]\n",
    "    H = fluxonium.bare_hamiltonian(N, E_L, E_C, E_J, phi*2*np.pi) #Hamiltonian\n",
    "    freq = H.eigenenergies()[1] - H.eigenenergies()[0] #transition freq\n",
    "    thermal_factor_diel = (1+np.exp(-h*freq*1e9/(kB*T_diel)))\n",
    "    thermal_factor_qp = (1+np.exp(-h*freq*1e9/(kB*T_qp)))\n",
    "    p_me = fluxonium.phase_matrix_element(N, E_L, E_C, E_J, phi*2*np.pi, 0, 1) #Matrix element\n",
    "    gamma_cap = fluxonium.relaxation_rate_cap(E_L, E_C, E_J, Q_cap,freq, p_me, T_diel)*thermal_factor_diel\n",
    "    gamma_qp = fluxonium.relaxation_rate_qp_array(E_L, E_C, E_J, Q_qp, freq, p_me)*thermal_factor_qp\n",
    "    return abs(p_me)"
   ]
  },
  {
   "cell_type": "code",
   "execution_count": null,
   "metadata": {},
   "outputs": [],
   "source": [
    "# x0 = [1.0,4.0]\n",
    "# opt = minimize(gamma1, x0, method='Powell', tol = 1e-1)\n",
    "# print (opt)"
   ]
  },
  {
   "cell_type": "code",
   "execution_count": null,
   "metadata": {},
   "outputs": [],
   "source": [
    "E_L_array = np.linspace(0.2,2,181)\n",
    "E_J_array = np.linspace(0.2,10,161)\n",
    "gamma = np.zeros((len(E_J_array), len(E_L_array), 2), dtype = complex)\n",
    "def gamma1(E_L, E_J):\n",
    "    H = fluxonium.bare_hamiltonian(N, E_L, E_C, E_J, phi*2*np.pi) #Hamiltonian\n",
    "    freq = H.eigenenergies()[1] - H.eigenenergies()[0] #transition freq\n",
    "    thermal_factor_diel = (1+np.exp(-h*freq*1e9/(kB*T_diel)))\n",
    "    thermal_factor_qp = (1+np.exp(-h*freq*1e9/(kB*T_qp)))\n",
    "    p_me = fluxonium.phase_matrix_element(N, E_L, E_C, E_J, phi*2*np.pi, 0, 1) #Matrix element\n",
    "    gamma_cap = fluxonium.relaxation_rate_cap(E_L, E_C, E_J, Q_cap,freq, p_me, T_diel)*thermal_factor_diel\n",
    "    gamma_qp = fluxonium.relaxation_rate_qp_array(E_L, E_C, E_J, Q_qp, freq, p_me)*thermal_factor_qp\n",
    "    return gamma_cap, gamma_qp\n",
    "\n",
    "for J_idx, E_J in enumerate(E_J_array):\n",
    "    for L_idx, E_L in enumerate(E_L_array):\n",
    "        gamma[J_idx, L_idx, :] = gamma1(E_L, E_J)"
   ]
  },
  {
   "cell_type": "code",
   "execution_count": null,
   "metadata": {},
   "outputs": [],
   "source": [
    "plt.figure(figsize=[10,10])\n",
    "import matplotlib.colors as cl\n",
    "plt.xlabel(r'$E_L$')\n",
    "plt.ylabel(r'$E_J$')\n",
    "X,Y = np.meshgrid(E_L_array, E_J_array)\n",
    "Z = abs(gamma[:,:,0])\n",
    "plt.pcolormesh(X,Y,(Z**-1)*1e6,norm=cl.LogNorm())\n",
    "plt.colorbar()"
   ]
  },
  {
   "cell_type": "code",
   "execution_count": null,
   "metadata": {},
   "outputs": [],
   "source": [
    "plt.figure(figsize=[10,10])\n",
    "plt.xlabel(r'$E_L$')\n",
    "plt.ylabel(r'$E_J$')\n",
    "X,Y = np.meshgrid(E_L_array, E_J_array)\n",
    "Z = abs(gamma[:,:,1])\n",
    "plt.pcolormesh(X,Y,(Z**-1)*1e6,norm=cl.LogNorm())\n",
    "plt.colorbar()"
   ]
  },
  {
   "cell_type": "code",
   "execution_count": null,
   "metadata": {},
   "outputs": [],
   "source": [
    "plt.figure(figsize=[10,10])\n",
    "plt.xlabel(r'$E_L$')\n",
    "plt.ylabel(r'$E_J$')\n",
    "X,Y = np.meshgrid(E_L_array, E_J_array)\n",
    "Z = abs(gamma[:,:,1])+abs(gamma[:,:,0])\n",
    "plt.pcolormesh(X,Y,(Z**-1)*1e6,norm=cl.LogNorm())\n",
    "plt.colorbar()"
   ]
  },
  {
   "cell_type": "code",
   "execution_count": null,
   "metadata": {},
   "outputs": [],
   "source": []
  }
 ],
 "metadata": {
  "kernelspec": {
   "display_name": "Python 3",
   "language": "python",
   "name": "python3"
  },
  "language_info": {
   "codemirror_mode": {
    "name": "ipython",
    "version": 3
   },
   "file_extension": ".py",
   "mimetype": "text/x-python",
   "name": "python",
   "nbconvert_exporter": "python",
   "pygments_lexer": "ipython3",
   "version": "3.8.5"
  }
 },
 "nbformat": 4,
 "nbformat_minor": 4
}
